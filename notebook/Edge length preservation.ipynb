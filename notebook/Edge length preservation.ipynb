{
 "cells": [
  {
   "cell_type": "code",
   "execution_count": 129,
   "id": "improving-dispute",
   "metadata": {},
   "outputs": [],
   "source": [
    "from psbody.mesh import Mesh, MeshViewer\n",
    "from opendr.topology import get_vert_connectivity, get_vertices_per_edge\n",
    "import numpy as np\n",
    "from chumpy.utils import row, col\n",
    "import tensorflow._api.v2.compat.v1 as tf"
   ]
  },
  {
   "cell_type": "code",
   "execution_count": 3,
   "id": "played-solution",
   "metadata": {},
   "outputs": [],
   "source": [
    "mesh = Mesh(filename=\"/home/oole/git/ma/conv-track/data/template.obj\")"
   ]
  },
  {
   "cell_type": "code",
   "execution_count": 5,
   "id": "impossible-statement",
   "metadata": {},
   "outputs": [],
   "source": [
    "viewer = MeshViewer(titlebar=\"test\")"
   ]
  },
  {
   "cell_type": "code",
   "execution_count": 6,
   "id": "based-vertex",
   "metadata": {},
   "outputs": [],
   "source": [
    "viewer.set_dynamic_meshes([mesh])"
   ]
  },
  {
   "cell_type": "code",
   "execution_count": 9,
   "id": "employed-decision",
   "metadata": {},
   "outputs": [],
   "source": [
    "edges = mesh.edges_as_lines()"
   ]
  },
  {
   "cell_type": "code",
   "execution_count": 41,
   "id": "banner-easter",
   "metadata": {},
   "outputs": [],
   "source": [
    "verts_per_edge = get_vertices_per_edge(mesh.v, mesh.f)"
   ]
  },
  {
   "cell_type": "code",
   "execution_count": 52,
   "id": "immediate-credit",
   "metadata": {},
   "outputs": [
    {
     "data": {
      "text/plain": [
       "array([[   0,    1],\n",
       "       [   1,    2],\n",
       "       [   0,    3],\n",
       "       ...,\n",
       "       [5008, 5022],\n",
       "       [5009, 5022],\n",
       "       [5021, 5022]], dtype=int32)"
      ]
     },
     "execution_count": 52,
     "metadata": {},
     "output_type": "execute_result"
    }
   ],
   "source": [
    "verts_per_edge"
   ]
  },
  {
   "cell_type": "code",
   "execution_count": 54,
   "id": "committed-tribune",
   "metadata": {},
   "outputs": [],
   "source": [
    "first_vert_idx = verts_per_edge[:,0]\n",
    "second_vert_idx = verts_per_edge[:,1]"
   ]
  },
  {
   "cell_type": "code",
   "execution_count": 67,
   "id": "southwest-paraguay",
   "metadata": {},
   "outputs": [],
   "source": [
    "vertices = mesh.v\n",
    "first_vertices = vertices.take(first_vert_idx, axis=0)\n",
    "second_vertices = vertices.take(second_vert_idx, axis=0)"
   ]
  },
  {
   "cell_type": "code",
   "execution_count": 84,
   "id": "amateur-landing",
   "metadata": {},
   "outputs": [],
   "source": [
    "# edge lengths\n",
    "diff = np.linalg.norm(first_vertices - second_vertices, axis=-1)"
   ]
  },
  {
   "cell_type": "code",
   "execution_count": 88,
   "id": "interpreted-magazine",
   "metadata": {},
   "outputs": [],
   "source": [
    "for i in diff:\n",
    "    if i < 0 :\n",
    "        print(ouch)"
   ]
  },
  {
   "cell_type": "code",
   "execution_count": 28,
   "id": "remarkable-cowboy",
   "metadata": {},
   "outputs": [],
   "source": [
    "vertices = mesh.v"
   ]
  },
  {
   "cell_type": "code",
   "execution_count": 130,
   "id": "superior-prime",
   "metadata": {},
   "outputs": [
    {
     "name": "stdout",
     "output_type": "stream",
     "text": [
      "(1, 5023, 3)\n",
      "(1, 14995, 3)\n",
      "(1, 14995, 3)\n"
     ]
    },
    {
     "data": {
      "text/plain": [
       "TensorShape([1, 14995])"
      ]
     },
     "execution_count": 130,
     "metadata": {},
     "output_type": "execute_result"
    }
   ],
   "source": [
    "vert_t = tf.constant(np.expand_dims(vertices, axis=0))\n",
    "print(vert_t.shape)\n",
    "first_verts = tf.gather(vert_t, first_vert_idx, axis=1)\n",
    "print(first_verts.shape)\n",
    "second_verts =  tf.gather(vert_t, second_vert_idx, axis=1)\n",
    "print(second_verts.shape)\n",
    "first_edges = tf.norm(first_verts-second_verts, axis=-1)\n",
    "first_edges.shape"
   ]
  },
  {
   "cell_type": "code",
   "execution_count": 131,
   "id": "identical-baghdad",
   "metadata": {},
   "outputs": [
    {
     "name": "stdout",
     "output_type": "stream",
     "text": [
      "(1, 5023, 3)\n",
      "(1, 14995, 3)\n",
      "(1, 14995, 3)\n"
     ]
    },
    {
     "data": {
      "text/plain": [
       "TensorShape([1, 14995])"
      ]
     },
     "execution_count": 131,
     "metadata": {},
     "output_type": "execute_result"
    }
   ],
   "source": [
    "pred_t = tf.constant(np.expand_dims(vertices, axis=0))\n",
    "print(vert_t.shape)\n",
    "pred_verts = tf.gather(pred_t, first_vert_idx, axis=1)\n",
    "print(first_verts.shape)\n",
    "pred_verts =  tf.gather(pred_t, second_vert_idx, axis=1)\n",
    "print(second_verts.shape)\n",
    "pred_edges = tf.norm(pred_verts-pred_verts, axis=-1)\n",
    "pred_edges.shape"
   ]
  },
  {
   "cell_type": "code",
   "execution_count": 143,
   "id": "manufactured-budapest",
   "metadata": {},
   "outputs": [],
   "source": [
    "edge_loss = tf.losses.absolute_difference(predictions=pred_edges, labels=first_edges, reduction=tf.losses.Reduction.SUM)"
   ]
  },
  {
   "cell_type": "code",
   "execution_count": 144,
   "id": "otherwise-trader",
   "metadata": {},
   "outputs": [
    {
     "data": {
      "text/plain": [
       "<tf.Tensor: shape=(), dtype=float32, numpy=75.481155>"
      ]
     },
     "execution_count": 144,
     "metadata": {},
     "output_type": "execute_result"
    }
   ],
   "source": [
    "edge_loss"
   ]
  },
  {
   "cell_type": "code",
   "execution_count": null,
   "id": "fossil-phenomenon",
   "metadata": {},
   "outputs": [],
   "source": []
  }
 ],
 "metadata": {
  "kernelspec": {
   "display_name": "Python 3",
   "language": "python",
   "name": "python3"
  },
  "language_info": {
   "codemirror_mode": {
    "name": "ipython",
    "version": 3
   },
   "file_extension": ".py",
   "mimetype": "text/x-python",
   "name": "python",
   "nbconvert_exporter": "python",
   "pygments_lexer": "ipython3",
   "version": "3.8.10"
  }
 },
 "nbformat": 4,
 "nbformat_minor": 5
}
