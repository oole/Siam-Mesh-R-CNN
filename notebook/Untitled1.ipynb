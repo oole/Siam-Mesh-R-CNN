{
 "cells": [
  {
   "cell_type": "code",
   "execution_count": 1,
   "id": "corresponding-morris",
   "metadata": {},
   "outputs": [],
   "source": [
    "x0, y0, x1, y1 = 20,40,30,50"
   ]
  },
  {
   "cell_type": "code",
   "execution_count": 3,
   "id": "mature-david",
   "metadata": {},
   "outputs": [
    {
     "data": {
      "text/plain": [
       "0.044642857142857144"
      ]
     },
     "execution_count": 3,
     "metadata": {},
     "output_type": "execute_result"
    }
   ],
   "source": [
    "spacing_w = (x1 - x0) / 224\n",
    "spacing_w"
   ]
  },
  {
   "cell_type": "code",
   "execution_count": 4,
   "id": "veterinary-response",
   "metadata": {},
   "outputs": [],
   "source": [
    "spacing_h = (y1-y0) / 224"
   ]
  },
  {
   "cell_type": "code",
   "execution_count": 5,
   "id": "threaded-playlist",
   "metadata": {},
   "outputs": [
    {
     "data": {
      "text/plain": [
       "0.044642857142857144"
      ]
     },
     "execution_count": 5,
     "metadata": {},
     "output_type": "execute_result"
    }
   ],
   "source": [
    "spacing_h"
   ]
  },
  {
   "cell_type": "code",
   "execution_count": 6,
   "id": "consistent-singles",
   "metadata": {},
   "outputs": [],
   "source": [
    "imshape = [824 - 1, 1024-1]"
   ]
  },
  {
   "cell_type": "code",
   "execution_count": 11,
   "id": "thick-procurement",
   "metadata": {},
   "outputs": [],
   "source": [
    "nx0 = (x0 + spacing_w / 2 - 0.5) / imshape[1]\n",
    "ny0 = (y0 + spacing_h / 2 - 0.5) / imshape[0]"
   ]
  },
  {
   "cell_type": "code",
   "execution_count": 18,
   "id": "outside-steps",
   "metadata": {},
   "outputs": [
    {
     "data": {
      "text/plain": [
       "23.743506493506494"
      ]
     },
     "execution_count": 18,
     "metadata": {},
     "output_type": "execute_result"
    }
   ],
   "source": [
    "nw = spacing_w * (224 - 1) / imshape[1]\n",
    "nh = spacing_h * (224 - 1) / imshape[0]\n",
    "(nw+nx0) * 824"
   ]
  },
  {
   "cell_type": "code",
   "execution_count": null,
   "id": "varying-horse",
   "metadata": {},
   "outputs": [],
   "source": []
  }
 ],
 "metadata": {
  "kernelspec": {
   "display_name": "Python 3",
   "language": "python",
   "name": "python3"
  },
  "language_info": {
   "codemirror_mode": {
    "name": "ipython",
    "version": 3
   },
   "file_extension": ".py",
   "mimetype": "text/x-python",
   "name": "python",
   "nbconvert_exporter": "python",
   "pygments_lexer": "ipython3",
   "version": "3.8.10"
  }
 },
 "nbformat": 4,
 "nbformat_minor": 5
}
