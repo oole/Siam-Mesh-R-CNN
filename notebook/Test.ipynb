{
 "cells": [
  {
   "cell_type": "code",
   "execution_count": 1,
   "id": "centered-label",
   "metadata": {},
   "outputs": [],
   "source": [
    "import numpy as np"
   ]
  },
  {
   "cell_type": "code",
   "execution_count": 19,
   "id": "greenhouse-friendly",
   "metadata": {},
   "outputs": [
    {
     "name": "stdout",
     "output_type": "stream",
     "text": [
      "(1, 5, 4, 3)\n"
     ]
    },
    {
     "data": {
      "text/plain": [
       "array([[[[  1,   1,   1],\n",
       "         [  2,   2,   2],\n",
       "         [  3,   3,   3],\n",
       "         [ 33,  33,  33]],\n",
       "\n",
       "        [[  4,   4,   4],\n",
       "         [  5,   5,   5],\n",
       "         [  6,   6,   6],\n",
       "         [ 66,  66,  66]],\n",
       "\n",
       "        [[  7,   7,   7],\n",
       "         [  8,   8,   8],\n",
       "         [  9,   9,   9],\n",
       "         [ 99,  99,  99]],\n",
       "\n",
       "        [[ 71,  71,  71],\n",
       "         [ 81,  81,  81],\n",
       "         [ 91,  91,  91],\n",
       "         [991, 991, 991]],\n",
       "\n",
       "        [[ 72,  72,  72],\n",
       "         [ 82,  82,  82],\n",
       "         [ 92,  92,  92],\n",
       "         [992, 992, 992]]]])"
      ]
     },
     "execution_count": 19,
     "metadata": {},
     "output_type": "execute_result"
    }
   ],
   "source": [
    "test = np.asarray([[[[1,1,1],[2,2,2],[3,3,3],[33,33,33]],[[4,4,4],[5,5,5],[6,6,6],[66,66,66]],[[7,7,7],[8,8,8],[9,9,9],[99,99,99]],[[71,71,71],[81,81,81],[91,91,91],[991,991,991]],[[72,72,72],[82,82,82],[92,92,92],[992,992,992]]]])\n",
    "print(test.shape)\n",
    "test"
   ]
  },
  {
   "cell_type": "code",
   "execution_count": 20,
   "id": "available-peripheral",
   "metadata": {},
   "outputs": [
    {
     "name": "stdout",
     "output_type": "stream",
     "text": [
      "(1, 3, 4, 5)\n"
     ]
    },
    {
     "data": {
      "text/plain": [
       "array([[[[  1,   4,   7,  71,  72],\n",
       "         [  2,   5,   8,  81,  82],\n",
       "         [  3,   6,   9,  91,  92],\n",
       "         [ 33,  66,  99, 991, 992]],\n",
       "\n",
       "        [[  1,   4,   7,  71,  72],\n",
       "         [  2,   5,   8,  81,  82],\n",
       "         [  3,   6,   9,  91,  92],\n",
       "         [ 33,  66,  99, 991, 992]],\n",
       "\n",
       "        [[  1,   4,   7,  71,  72],\n",
       "         [  2,   5,   8,  81,  82],\n",
       "         [  3,   6,   9,  91,  92],\n",
       "         [ 33,  66,  99, 991, 992]]]])"
      ]
     },
     "execution_count": 20,
     "metadata": {},
     "output_type": "execute_result"
    }
   ],
   "source": [
    "trans = np.transpose(test, [0,3,2,1])\n",
    "print(trans.shape)\n",
    "trans"
   ]
  },
  {
   "cell_type": "code",
   "execution_count": null,
   "id": "confused-poster",
   "metadata": {},
   "outputs": [],
   "source": []
  },
  {
   "cell_type": "code",
   "execution_count": null,
   "id": "ancient-arlington",
   "metadata": {},
   "outputs": [],
   "source": []
  }
 ],
 "metadata": {
  "kernelspec": {
   "display_name": "Python 3",
   "language": "python",
   "name": "python3"
  },
  "language_info": {
   "codemirror_mode": {
    "name": "ipython",
    "version": 3
   },
   "file_extension": ".py",
   "mimetype": "text/x-python",
   "name": "python",
   "nbconvert_exporter": "python",
   "pygments_lexer": "ipython3",
   "version": "3.8.10"
  }
 },
 "nbformat": 4,
 "nbformat_minor": 5
}
