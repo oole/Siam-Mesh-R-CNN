{
 "cells": [
  {
   "cell_type": "code",
   "execution_count": 1,
   "id": "literary-stereo",
   "metadata": {},
   "outputs": [],
   "source": [
    "import cv2\n",
    "import os\n",
    "from matplotlib import pyplot as plt\n",
    "from PIL import ImageFont, ImageDraw, Image, ImageColor\n",
    "import numpy as np\n",
    "import glob\n",
    "import xmltodict\n",
    "from tqdm import tqdm"
   ]
  },
  {
   "cell_type": "code",
   "execution_count": 2,
   "id": "casual-empty",
   "metadata": {},
   "outputs": [],
   "source": [
    "chokepoint_root = \"/home/oole/Data/Chokepoint\"\n",
    "def _load_roidb_chokepoint(subset):\n",
    "    subset_path = os.path.join(chokepoint_root, \"annotation\", \"G1\", subset)\n",
    "    paths = sorted(glob.glob(subset_path + \"*/*/*/*\"))\n",
    "    vid_names_1 = [path for path in paths if \"xml\" not in path and \"seq\" in path]\n",
    "    vid_names_1 = [\"/\".join(v.split(\"/\")[-3:]) for v in vid_names_1]\n",
    "    paths = sorted(glob.glob(subset_path + \"*/*/*\"))\n",
    "    vid_names_2 = [path for path in paths if \"xml\" not in path and \"seq\" in path]\n",
    "    vid_names_2 = [\"/\".join(v.split(\"/\")[-2:]) for v in vid_names_2]\n",
    "    vid_names = list(vid_names_2 + vid_names_1)\n",
    "    return vid_names\n",
    "\n",
    "def get_sequences(subset):\n",
    "    subset_path = os.path.join(chokepoint_root, \"annotation\", \"G1\", subset)\n",
    "    paths = sorted(glob.glob(subset_path + \"*/*/*/*\"))\n",
    "    sequences_1 = [path for path in paths if \"xml\" not in path and \"seq\" in path]\n",
    "    sequences_1 = [\"/\".join(v.split(\"/\")[-3:]) for v in sequences_1]\n",
    "    paths = sorted(glob.glob(subset_path + \"*/*/*\"))\n",
    "    sequences_2 = [path for path in paths if \"xml\" not in path and \"seq\" in path]\n",
    "    sequences_2 = [\"/\".join(v.split(\"/\")[-2:]) for v in sequences_2]\n",
    "    sequences = list(sequences_2 + sequences_1)\n",
    "    return sequences"
   ]
  },
  {
   "cell_type": "code",
   "execution_count": 3,
   "id": "adverse-plymouth",
   "metadata": {},
   "outputs": [],
   "source": [
    "def get_sequence_frame_files(sequence, subset):\n",
    "    sequence_folder = os.path.join(chokepoint_root, \"annotation/G1/\", subset, sequence)\n",
    "    sequence_frame_files = sorted(glob.glob(sequence_folder + \"/*.xml\"))\n",
    "    sequence_frame_numbers = [frame_file.split(\"/\")[-1].split(\".\")[0] for frame_file in sequence_frame_files]\n",
    "    first_frame_number = sequence_frame_numbers[0]\n",
    "    return sequence_frame_files, first_frame_number"
   ]
  },
  {
   "cell_type": "code",
   "execution_count": 4,
   "id": "weekly-delay",
   "metadata": {},
   "outputs": [],
   "source": [
    "# Some helper functions to draw image with object boundary boxes\n",
    "fontname = '/usr/share/fonts/truetype/dejavu/DejaVuSans.ttf'\n",
    "font = ImageFont.truetype(fontname, 40) if os.path.isfile(fontname) else ImageFont.load_default()\n",
    "\n",
    "def bounding_box(img, xmin, ymin, xmax, ymax, width, score):\n",
    "    draw = ImageDraw.Draw(img)\n",
    "    xres, yres = img.size[0], img.size[1]\n",
    "    box = [xmin, ymin, xmax, ymax]\n",
    "    draw.rectangle(box, outline=\"red\", width=width)\n",
    "\n",
    "def plot_img(img, axes, xmin, ymin, xmax, ymax):\n",
    "    for i in range(len(xmin)):\n",
    "        bounding_box(img, xmin[i], ymin[i], xmax[i], ymax[i], 2, -1)\n",
    "    plt.setp(axes, xticks=[], yticks=[])\n",
    "    plt.imshow(img)\n"
   ]
  },
  {
   "cell_type": "code",
   "execution_count": 5,
   "id": "isolated-country",
   "metadata": {},
   "outputs": [],
   "source": [
    "def obj_data_to_bbox(annotation):\n",
    "    object_ann = annotation['object']\n",
    "    bbox = object_ann['bndbox']\n",
    "    x1 = int(bbox['xmin'])\n",
    "    y1 = int(bbox['ymin'])\n",
    "    x2 = int(bbox['xmax'])\n",
    "    y2 = int(bbox['ymax'])\n",
    "    box = [x1, y1, x2, y2]\n",
    "    return box\n",
    "\n",
    "def obj_file_path(annotation):\n",
    "    sub_path = annotation['folder']\n",
    "    fname = annotation['filename']\n",
    "    full_path = os.path.join(chokepoint_root, sub_path, fname + \".jpg\")\n",
    "    return full_path"
   ]
  },
  {
   "cell_type": "code",
   "execution_count": 7,
   "id": "theoretical-costs",
   "metadata": {},
   "outputs": [
    {
     "name": "stderr",
     "output_type": "stream",
     "text": [
      "100%|██████████| 173/173 [00:50<00:00,  3.41it/s]\n"
     ]
    }
   ],
   "source": [
    "draw_gt_path = os.path.join(chokepoint_root, \"sequences_drawn_gt\")\n",
    "dpi = 100\n",
    "figsize = 800 / float(dpi), 600 / float(dpi)\n",
    "\n",
    "sequences = get_sequences('train')\n",
    "for sequence in tqdm(sequences):\n",
    "    frame_files, first_frame_number = get_sequence_frame_files(sequence, 'train')\n",
    "    for frame in frame_files:\n",
    "        frame_dict =  xmltodict.parse(open(frame).read())['annotation']\n",
    "        bbox = obj_data_to_bbox(frame_dict)\n",
    "        bbox\n",
    "        img_file_path = obj_file_path(frame_dict)\n",
    "        drawn_gt_path = frame.replace(\"annotation\", \"sequences_drawn_gt\").replace(\".xml\", \".jpg\")\n",
    "        \n",
    "        if not os.path.isdir(os.path.dirname(drawn_gt_path)):\n",
    "            os.makedirs(os.path.dirname(drawn_gt_path))\n",
    "        \n",
    "        read_image = Image.open(img_file_path)\n",
    "        bounding_box(read_image, bbox[0], bbox[1], bbox[2], bbox[3], 5, -1)\n",
    "        read_image.save(drawn_gt_path)\n",
    "#         print(drawn_gt_path)\n"
   ]
  },
  {
   "cell_type": "code",
   "execution_count": null,
   "id": "fifty-punch",
   "metadata": {},
   "outputs": [],
   "source": [
    "\n"
   ]
  },
  {
   "cell_type": "code",
   "execution_count": null,
   "id": "wrong-spice",
   "metadata": {},
   "outputs": [],
   "source": []
  }
 ],
 "metadata": {
  "kernelspec": {
   "display_name": "Python 3",
   "language": "python",
   "name": "python3"
  },
  "language_info": {
   "codemirror_mode": {
    "name": "ipython",
    "version": 3
   },
   "file_extension": ".py",
   "mimetype": "text/x-python",
   "name": "python",
   "nbconvert_exporter": "python",
   "pygments_lexer": "ipython3",
   "version": "3.8.10"
  }
 },
 "nbformat": 4,
 "nbformat_minor": 5
}
